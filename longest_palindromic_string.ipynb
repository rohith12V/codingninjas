{
 "cells": [
  {
   "cell_type": "markdown",
   "metadata": {},
   "source": [
    "Input: s = \"babad\"\n",
    "Output: \"bab\"\n",
    "Explanation: \"aba\" is also a valid answer."
   ]
  },
  {
   "attachments": {},
   "cell_type": "markdown",
   "metadata": {},
   "source": [
    "<img src=\"./images/abc.jpeg\" />"
   ]
  },
  {
   "attachments": {},
   "cell_type": "markdown",
   "metadata": {},
   "source": [
    "to Check `S[left:right] `as a palindrome using previous results \n",
    "\n",
    "`S[left] == s[right] and dp[left + 1][right - 1] should  be True`"
   ]
  },
  {
   "cell_type": "code",
   "execution_count": 10,
   "metadata": {},
   "outputs": [
    {
     "name": "stdout",
     "output_type": "stream",
     "text": [
      "a\n"
     ]
    }
   ],
   "source": [
    "class Solution:\n",
    "    def longestPalindrome(self, s: str) -> str:\n",
    "\n",
    "        length = len(s)\n",
    "\n",
    "        # We Use DP because to find if a String is a Palindrome or not \n",
    "        # we can use previously calculated Results \n",
    "        # range 0 -> 3 is a palindrome if s[0] == s[3] and s[1: 2] is also a palindome\n",
    "        dp = [[False for _ in range(length)] for __ in range(length)]\n",
    "\n",
    "        # To Generate Sequence 01, 12, 23, 34, | 02, 13, 24 | 03, 14 | 04\n",
    "        shift = 0\n",
    "\n",
    "        # Stores the Max String palindromic length found so far\n",
    "        max_length_string = \"\"\n",
    "\n",
    "        while shift < len(s):\n",
    "\n",
    "            for x_index in range(0, length - shift):\n",
    "\n",
    "                y_index = x_index + shift # 01, 12, 23, 34 . . .\n",
    "\n",
    "                # Primary Case left index char should match wioth right index char to be a palindome\n",
    "                dp[x_index][y_index] = (s[y_index] == s[x_index])\n",
    "\n",
    "                # If there are any middle elemnets\n",
    "                if y_index - x_index > 1:\n",
    "                    # we should make sure to include its result\n",
    "                    dp[x_index][y_index] = dp[x_index][y_index] and dp[x_index + 1][y_index - 1]\n",
    "\n",
    "                # if our current evaulation is True that means we have found a bigger length palindrome\n",
    "                if dp[x_index][y_index]:\n",
    "                    max_length_string = s[x_index: y_index + 1]\n",
    "\n",
    "            shift+=1\n",
    "\n",
    "        return max_length_string\n",
    "\n",
    "\n",
    "ob = Solution()\n",
    "print(ob.longestPalindrome(\"a\"))   \n",
    "                 "
   ]
  }
 ],
 "metadata": {
  "kernelspec": {
   "display_name": "Python 3",
   "language": "python",
   "name": "python3"
  },
  "language_info": {
   "codemirror_mode": {
    "name": "ipython",
    "version": 3
   },
   "file_extension": ".py",
   "mimetype": "text/x-python",
   "name": "python",
   "nbconvert_exporter": "python",
   "pygments_lexer": "ipython3",
   "version": "3.9.12"
  },
  "orig_nbformat": 4,
  "vscode": {
   "interpreter": {
    "hash": "f49206fcf84a9145e7e21228cbafa911d1ac18292303b01e865d8267a9c448f7"
   }
  }
 },
 "nbformat": 4,
 "nbformat_minor": 2
}
