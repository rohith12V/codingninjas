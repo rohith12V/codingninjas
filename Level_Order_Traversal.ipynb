{
 "cells": [
  {
   "attachments": {},
   "cell_type": "markdown",
   "metadata": {},
   "source": [
    "<img src=\"./images/10.jpg\">"
   ]
  },
  {
   "cell_type": "code",
   "execution_count": null,
   "metadata": {},
   "outputs": [],
   "source": [
    "# Level Order traversal = [[3], [9, 20], [15, 7]]\n",
    "# elements from every level from left to right"
   ]
  },
  {
   "cell_type": "code",
   "execution_count": null,
   "metadata": {},
   "outputs": [],
   "source": [
    "#   Binary tree node class for reference\n",
    "class BinaryTreeNode:\n",
    "    def __init__(self, data):\n",
    "        self.val = data\n",
    "        self.left = None\n",
    "        self.right = None\n",
    "\n",
    "\n",
    "def getLevelOrder(root):\n",
    "    # store the result array\n",
    "    result = []\n",
    "    # Base condition\n",
    "    if not root:\n",
    "        return result\n",
    "    # start with level 0\n",
    "    que = [root]\n",
    "    # iterate till que has elements\n",
    "    while len(que) > 0:\n",
    "        # size represents the number of nodes in level i\n",
    "        size = len(que)\n",
    "        while size > 0:\n",
    "            el = que.pop(0)\n",
    "            # add to answer set\n",
    "            result.append(el.val)\n",
    "            # check left\n",
    "            if el.left:\n",
    "                que.append(el.left)\n",
    "            # check right\n",
    "            if el.right:\n",
    "                que.append(el.right)\n",
    "            size -= 1\n",
    "    return result"
   ]
  }
 ],
 "metadata": {
  "kernelspec": {
   "display_name": "Python 3",
   "language": "python",
   "name": "python3"
  },
  "language_info": {
   "name": "python",
   "version": "3.9.7 (tags/v3.9.7:1016ef3, Aug 30 2021, 20:19:38) [MSC v.1929 64 bit (AMD64)]"
  },
  "orig_nbformat": 4,
  "vscode": {
   "interpreter": {
    "hash": "c347c8f9a7ef94e4c9e03b4513be7835ed18f45b99a2a817fb579f408b867b16"
   }
  }
 },
 "nbformat": 4,
 "nbformat_minor": 2
}
