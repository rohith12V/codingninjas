{
 "cells": [
  {
   "cell_type": "markdown",
   "metadata": {},
   "source": [
    "You are given a sorted array 'arr'of 'n' numbers such that every number occurred twice in the array except one, which appears only once."
   ]
  },
  {
   "cell_type": "code",
   "execution_count": null,
   "metadata": {},
   "outputs": [],
   "source": [
    "# O(n)\n",
    "\n",
    "# Approach - 1\n",
    "\n",
    "# Xor of two elements always cancel out each other. \n",
    "# so, Xor of all elements will leave the single element as a result.\n",
    "\n",
    "\n",
    "def singleNonDuplicate(arr):\n",
    "\n",
    "    xor_value = arr[0]\n",
    "\n",
    "    for el in arr[1:]:\n",
    "\n",
    "        xor_value = xor_value ^ el\n",
    "    \n",
    "    return xor_value"
   ]
  },
  {
   "cell_type": "code",
   "execution_count": null,
   "metadata": {},
   "outputs": [],
   "source": [
    "# O(logn)\n",
    "\n",
    "# Approach - 2\n",
    "\n",
    "def singleNonDuplicate(nums):\n",
    "\n",
    "    left, right = 0, len(nums) - 1\n",
    "\n",
    "    while left < right:\n",
    "\n",
    "        # calculate mid point\n",
    "        mid = (left + right) // 2\n",
    "\n",
    "        # if mid is odd, subtract it so that it will become even, for even sized array we can check if it contains single elemeny or not.\n",
    "        if mid % 2 == 1:\n",
    "            mid -= 1\n",
    "\n",
    "        # \n",
    "        if nums[mid] == nums[mid + 1]:\n",
    "\n",
    "            left = mid + 2\n",
    "\n",
    "        else:\n",
    "\n",
    "            right = mid\n",
    "\n",
    "    return nums[left]"
   ]
  }
 ],
 "metadata": {
  "language_info": {
   "name": "python"
  },
  "orig_nbformat": 4
 },
 "nbformat": 4,
 "nbformat_minor": 2
}
