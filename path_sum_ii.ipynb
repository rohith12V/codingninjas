{
 "cells": [
  {
   "cell_type": "markdown",
   "metadata": {},
   "source": [
    "https://leetcode.com/problems/path-sum-ii/"
   ]
  },
  {
   "cell_type": "code",
   "execution_count": null,
   "metadata": {},
   "outputs": [],
   "source": [
    "# root  -> leaf paths where [targetSum == sum(nodes in that path)]"
   ]
  },
  {
   "attachments": {},
   "cell_type": "markdown",
   "metadata": {},
   "source": [
    "<img src = \"./images/2.jpg\" />"
   ]
  },
  {
   "cell_type": "code",
   "execution_count": 1,
   "metadata": {},
   "outputs": [],
   "source": [
    "# Definition for a binary tree node.\n",
    "class TreeNode:\n",
    "    def __init__(self, val=0, left=None, right=None):\n",
    "        self.val = val\n",
    "        self.left = left\n",
    "        self.right = right"
   ]
  },
  {
   "cell_type": "code",
   "execution_count": null,
   "metadata": {},
   "outputs": [],
   "source": [
    "from typing import List, Optional\n",
    "class Solution:\n",
    "    def pathSum(self, root: Optional[TreeNode], targetSum: int) -> List[List[int]]:\n",
    "        paths = [] # to store the path which satisfies root -> leaf sum == targetSum\n",
    "        path = [] # to store the current path\n",
    "        def traversePath(node, remaining):\n",
    "            # append node to current path\n",
    "            path.append(node.val)\n",
    "\n",
    "            # check if current node is a leaf node and our remaining value matches with node value\n",
    "            # then its found - total path from root -> leaf\n",
    "            if remaining == node.val and node.left == None and node.right == None:\n",
    "                paths.append(path.copy())\n",
    "            \n",
    "            # traverse Left only if it is available\n",
    "            if node.left:\n",
    "                traversePath(node.left, remaining - node.val)\n",
    "            \n",
    "            # traverse right only if it is available\n",
    "            if node.right:\n",
    "                traversePath(node.right, remaining - node.val)\n",
    "\n",
    "            # retrace back\n",
    "            path.pop()\n",
    "        \n",
    "        # traverse only if we have a defined root.\n",
    "        if root:\n",
    "            traversePath(root, targetSum)\n",
    "        # return paths\n",
    "        return paths"
   ]
  }
 ],
 "metadata": {
  "kernelspec": {
   "display_name": "Python 3",
   "language": "python",
   "name": "python3"
  },
  "language_info": {
   "codemirror_mode": {
    "name": "ipython",
    "version": 3
   },
   "file_extension": ".py",
   "mimetype": "text/x-python",
   "name": "python",
   "nbconvert_exporter": "python",
   "pygments_lexer": "ipython3",
   "version": "3.9.7"
  },
  "orig_nbformat": 4,
  "vscode": {
   "interpreter": {
    "hash": "c347c8f9a7ef94e4c9e03b4513be7835ed18f45b99a2a817fb579f408b867b16"
   }
  }
 },
 "nbformat": 4,
 "nbformat_minor": 2
}
