{
 "cells": [
  {
   "cell_type": "code",
   "execution_count": 10,
   "metadata": {},
   "outputs": [],
   "source": [
    "# Approach \n",
    "# Buy on First day\n",
    "# sell on second day, if profit is negative then dont buy on first day and buy on second day\n",
    "# if profit is positive (local), keep track of global profit observed so far.\n",
    "# similarly check by selling on consequtive indices\n",
    "\n",
    "# > one transaction is allowed"
   ]
  },
  {
   "cell_type": "code",
   "execution_count": 11,
   "metadata": {},
   "outputs": [
    {
     "name": "stdout",
     "output_type": "stream",
     "text": [
      "7\n"
     ]
    }
   ],
   "source": [
    "from typing import List\n",
    "\n",
    "## MORE THAN ONE TRANSACTION IS ALLOWED\n",
    "\n",
    "class Solution:\n",
    "    def maxProfit(self, prices: List[int]) -> int:\n",
    "\n",
    "        # Buy on Day - 1\n",
    "        buy_price = prices[0]\n",
    "\n",
    "        # Global profit\n",
    "        total_profit = 0\n",
    "\n",
    "        for price in prices[1:]:\n",
    "\n",
    "            # calculate the profit \n",
    "            profit = price - buy_price\n",
    "\n",
    "            # if we get profit buy selling on next day add it to the total \n",
    "            total_profit += (profit if profit > 0 else 0 )\n",
    "\n",
    "            # update buy price to every days current price\n",
    "            buy_price = price\n",
    "\n",
    "        return total_profit\n",
    "        \n",
    "print(Solution().maxProfit([7,1,5,3,6,4]))"
   ]
  }
 ],
 "metadata": {
  "kernelspec": {
   "display_name": "Python 3",
   "language": "python",
   "name": "python3"
  },
  "language_info": {
   "codemirror_mode": {
    "name": "ipython",
    "version": 3
   },
   "file_extension": ".py",
   "mimetype": "text/x-python",
   "name": "python",
   "nbconvert_exporter": "python",
   "pygments_lexer": "ipython3",
   "version": "3.9.7"
  },
  "orig_nbformat": 4,
  "vscode": {
   "interpreter": {
    "hash": "c347c8f9a7ef94e4c9e03b4513be7835ed18f45b99a2a817fb579f408b867b16"
   }
  }
 },
 "nbformat": 4,
 "nbformat_minor": 2
}
