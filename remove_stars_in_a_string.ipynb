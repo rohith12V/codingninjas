{
 "cells": [
  {
   "cell_type": "markdown",
   "metadata": {},
   "source": [
    "Input: s = \"leet**cod*e\"\n",
    "Output: \"lecoe\""
   ]
  },
  {
   "cell_type": "code",
   "execution_count": null,
   "metadata": {},
   "outputs": [],
   "source": [
    "class Solution:\n",
    "    def removeStars(self, s: str) -> str:\n",
    "        stack = []\n",
    "        for i in range(0, len(s)):\n",
    "            if len(stack) > 0 and s[i] == \"*\":\n",
    "                stack.pop(-1)\n",
    "            else:\n",
    "                stack.append(s[i])\n",
    "\n",
    "        return  \"\".join(stack)"
   ]
  }
 ],
 "metadata": {
  "language_info": {
   "name": "python"
  },
  "orig_nbformat": 4
 },
 "nbformat": 4,
 "nbformat_minor": 2
}
