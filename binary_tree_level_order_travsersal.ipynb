{
 "cells": [
  {
   "attachments": {},
   "cell_type": "markdown",
   "metadata": {},
   "source": [
    "<img src=\"./images/10.jpg\">"
   ]
  },
  {
   "cell_type": "code",
   "execution_count": null,
   "metadata": {},
   "outputs": [],
   "source": [
    "# Level Order traversal = [[3], [9, 20], [15, 7]]\n",
    "# elements from every level from left to right"
   ]
  },
  {
   "cell_type": "code",
   "execution_count": null,
   "metadata": {},
   "outputs": [],
   "source": [
    "# Definition for a binary tree node.\n",
    "class TreeNode:\n",
    "    def __init__(self, val=0, left=None, right=None):\n",
    "        self.val = val\n",
    "        self.left = left\n",
    "        self.right = right\n"
   ]
  },
  {
   "cell_type": "code",
   "execution_count": null,
   "metadata": {},
   "outputs": [],
   "source": [
    "from typing import List, Optional\n",
    "\n",
    "class Solution:\n",
    "    def levelOrder(self, root: Optional[TreeNode]) -> List[List[int]]:\n",
    "        lvl_order_traversal = []\n",
    "        def traverse(node, level):\n",
    "            # Base case\n",
    "            if not node:\n",
    "                return\n",
    "\n",
    "            # avoid index out of range error\n",
    "            if level > len(lvl_order_traversal) - 1:\n",
    "                lvl_order_traversal.append([])\n",
    "            \n",
    "            # append node to its respective level\n",
    "            lvl_order_traversal[level].append(node.val)\n",
    "\n",
    "            # recurse\n",
    "            traverse(node.left, level + 1)\n",
    "            traverse(node.right, level + 1)\n",
    "        traverse(root, 0)\n",
    "        return lvl_order_traversal"
   ]
  }
 ],
 "metadata": {
  "kernelspec": {
   "display_name": "Python 3",
   "language": "python",
   "name": "python3"
  },
  "language_info": {
   "name": "python",
   "version": "3.9.7 (tags/v3.9.7:1016ef3, Aug 30 2021, 20:19:38) [MSC v.1929 64 bit (AMD64)]"
  },
  "orig_nbformat": 4,
  "vscode": {
   "interpreter": {
    "hash": "c347c8f9a7ef94e4c9e03b4513be7835ed18f45b99a2a817fb579f408b867b16"
   }
  }
 },
 "nbformat": 4,
 "nbformat_minor": 2
}
