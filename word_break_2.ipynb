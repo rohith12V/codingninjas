{
 "cells": [
  {
   "cell_type": "code",
   "execution_count": 13,
   "metadata": {},
   "outputs": [
    {
     "name": "stdout",
     "output_type": "stream",
     "text": [
      "[['god', 'is', 'no', 'where', 'no', 'where'], ['god', 'is', 'no', 'where', 'now', 'here'], ['god', 'is', 'now', 'here', 'no', 'where'], ['god', 'is', 'now', 'here', 'now', 'here']]\n"
     ]
    }
   ],
   "source": [
    "from os import *\n",
    "from sys import *\n",
    "from collections import *\n",
    "from math import *\n",
    "\n",
    "def wordBreak(source, dictionary):\n",
    "    paths = []\n",
    "    dictionary = set(dictionary)\n",
    "    def traversal(index, path):\n",
    "        if index >= len(source):\n",
    "            paths.append(path.copy())\n",
    "            return\n",
    "        for i in range(index + 1, len(source) + 1):\n",
    "            if source[index:i] in dictionary:\n",
    "                path.append(source[index:i])\n",
    "                traversal(i, path)\n",
    "                path.pop()\n",
    "    traversal(0, [])\n",
    "    return paths\n",
    "print(wordBreak(\"godisnowherenowhere\", [\"god\", \"is\", \"now\", \"no\", \"where\", \"here\"] ))"
   ]
  },
  {
   "cell_type": "code",
   "execution_count": 4,
   "metadata": {},
   "outputs": [
    {
     "name": "stdout",
     "output_type": "stream",
     "text": [
      "[]\n"
     ]
    }
   ],
   "source": []
  }
 ],
 "metadata": {
  "kernelspec": {
   "display_name": "Python 3",
   "language": "python",
   "name": "python3"
  },
  "language_info": {
   "codemirror_mode": {
    "name": "ipython",
    "version": 3
   },
   "file_extension": ".py",
   "mimetype": "text/x-python",
   "name": "python",
   "nbconvert_exporter": "python",
   "pygments_lexer": "ipython3",
   "version": "3.9.7"
  },
  "orig_nbformat": 4,
  "vscode": {
   "interpreter": {
    "hash": "c347c8f9a7ef94e4c9e03b4513be7835ed18f45b99a2a817fb579f408b867b16"
   }
  }
 },
 "nbformat": 4,
 "nbformat_minor": 2
}
