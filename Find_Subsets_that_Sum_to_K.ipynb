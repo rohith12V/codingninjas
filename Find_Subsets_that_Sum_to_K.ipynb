{
 "cells": [
  {
   "cell_type": "code",
   "execution_count": 1,
   "metadata": {},
   "outputs": [],
   "source": [
    "# Variation - 1\n",
    "def print_all_subsequences(arr):\n",
    "    paths = []\n",
    "\n",
    "    def traversal(idx, path):\n",
    "\n",
    "        # print and exit\n",
    "        if idx >= len(arr):\n",
    "            paths.append(path.copy())\n",
    "            return\n",
    "        # take\n",
    "        path.append(arr[idx])\n",
    "        traversal(idx + 1, path)\n",
    "\n",
    "        # dont take\n",
    "        path.pop()\n",
    "        traversal(idx + 1, path)\n",
    "\n",
    "    traversal(0, [])\n",
    "\n",
    "    return paths"
   ]
  },
  {
   "cell_type": "code",
   "execution_count": 2,
   "metadata": {},
   "outputs": [],
   "source": [
    "def print_all_subsequences_sum_to_k(arr, target):\n",
    "    paths = []\n",
    "\n",
    "    def traversal(idx, path, path_sum):\n",
    "\n",
    "        if idx >= len(arr):\n",
    "            # print only if sum matches\n",
    "            if target == path_sum:\n",
    "                paths.append(path.copy())\n",
    "            return\n",
    "\n",
    "        # take\n",
    "        path.append(arr[idx])\n",
    "        path_sum += arr[idx]\n",
    "        traversal(idx + 1, path, path_sum)\n",
    "\n",
    "        # dont take\n",
    "        path.pop()\n",
    "        path_sum -= arr[idx]\n",
    "        traversal(idx + 1, path, path_sum)\n",
    "\n",
    "    traversal(0, [], 0)\n",
    "\n",
    "    return paths"
   ]
  },
  {
   "cell_type": "code",
   "execution_count": 3,
   "metadata": {},
   "outputs": [],
   "source": [
    "def count_all_subsequences_that_sum_to_k(arr, target):\n",
    "    def traversal(idx, path, path_sum):\n",
    "        if idx >= len(arr):\n",
    "            # return 1 only if count matches target\n",
    "            return 1 if (target == path_sum) else 0\n",
    "\n",
    "        # take\n",
    "        path.append(arr[idx])\n",
    "        path_sum += arr[idx]\n",
    "        left = traversal(idx + 1, path, path_sum)\n",
    "\n",
    "        #  dont take\n",
    "        path.pop()\n",
    "        path_sum -= arr[idx]\n",
    "        right = traversal(idx + 1, path, path_sum)\n",
    "\n",
    "        # sum of left and right as we are counting\n",
    "        return left + right\n",
    "    return traversal(0, [], 0)"
   ]
  },
  {
   "cell_type": "code",
   "execution_count": 4,
   "metadata": {},
   "outputs": [],
   "source": [
    "def print_any_one_subsequence_that_sum_to_k(arr, target):\n",
    "\n",
    "    def traversal(idx, path, path_sum):\n",
    "\n",
    "        if idx >= len(arr):\n",
    "            if target == path_sum:\n",
    "                print(path.copy())\n",
    "            # return true if match else false\n",
    "            return target == path_sum\n",
    "\n",
    "        # Take\n",
    "        path.append(arr[idx])\n",
    "        path_sum += arr[idx]\n",
    "        left = traversal(idx + 1, path, path_sum)\n",
    "\n",
    "        # Dont take\n",
    "        path.pop()\n",
    "        path_sum -= arr[idx]\n",
    "        # search right only if left has no found\n",
    "        right = traversal(idx + 1, path, path_sum) if not left else False\n",
    "\n",
    "        # if any one of them has match then result will be a match\n",
    "\n",
    "        return right or left\n",
    "    return traversal(0, [], 0)"
   ]
  },
  {
   "cell_type": "code",
   "execution_count": 5,
   "metadata": {},
   "outputs": [
    {
     "name": "stdout",
     "output_type": "stream",
     "text": [
      "[[1, 3, 4, 2, 2], [1, 3, 4, 2], [1, 3, 4, 2], [1, 3, 4], [1, 3, 2, 2], [1, 3, 2], [1, 3, 2], [1, 3], [1, 4, 2, 2], [1, 4, 2], [1, 4, 2], [1, 4], [1, 2, 2], [1, 2], [1, 2], [1], [3, 4, 2, 2], [3, 4, 2], [3, 4, 2], [3, 4], [3, 2, 2], [3, 2], [3, 2], [3], [4, 2, 2], [4, 2], [4, 2], [4], [2, 2], [2], [2], []]\n",
      "[[1, 3], [4], [2, 2]]\n",
      "3\n",
      "[1, 3]\n"
     ]
    },
    {
     "data": {
      "text/plain": [
       "True"
      ]
     },
     "execution_count": 5,
     "metadata": {},
     "output_type": "execute_result"
    }
   ],
   "source": [
    "arr = [1, 3, 4, 2, 2]\n",
    "print(print_all_subsequences(arr))\n",
    "print(print_all_subsequences_sum_to_k(arr, 4))\n",
    "print(count_all_subsequences_that_sum_to_k(arr, 4))\n",
    "print_any_one_subsequence_that_sum_to_k(arr, 4)"
   ]
  }
 ],
 "metadata": {
  "kernelspec": {
   "display_name": "base",
   "language": "python",
   "name": "python3"
  },
  "language_info": {
   "codemirror_mode": {
    "name": "ipython",
    "version": 3
   },
   "file_extension": ".py",
   "mimetype": "text/x-python",
   "name": "python",
   "nbconvert_exporter": "python",
   "pygments_lexer": "ipython3",
   "version": "3.11.5"
  },
  "orig_nbformat": 4
 },
 "nbformat": 4,
 "nbformat_minor": 2
}
