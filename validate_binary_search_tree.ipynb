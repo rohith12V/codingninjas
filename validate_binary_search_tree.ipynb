{
 "cells": [
  {
   "cell_type": "code",
   "execution_count": 1,
   "metadata": {},
   "outputs": [],
   "source": [
    "# BST (left < root) + (right > root)\n",
    "# Validate Binary Search Tree"
   ]
  },
  {
   "cell_type": "code",
   "execution_count": 2,
   "metadata": {},
   "outputs": [],
   "source": [
    "# To check if all the nodes in BST are correctly inserted \n",
    "# we can use range mechanism"
   ]
  },
  {
   "cell_type": "code",
   "execution_count": 3,
   "metadata": {},
   "outputs": [],
   "source": [
    "# Demo is as below"
   ]
  },
  {
   "attachments": {},
   "cell_type": "markdown",
   "metadata": {},
   "source": [
    "<h1> Perform Validation using Range </h1>\n",
    "\n",
    "<img src =\"./images/8.jpg\" width=300px />"
   ]
  },
  {
   "attachments": {},
   "cell_type": "markdown",
   "metadata": {},
   "source": [
    "<img src =\"./images/9.jpg\" width=80% />"
   ]
  },
  {
   "cell_type": "code",
   "execution_count": null,
   "metadata": {},
   "outputs": [],
   "source": [
    "from typing import Optional\n",
    "import math\n",
    "\n",
    "class TreeNode:\n",
    "    def __init__(self, val=0, left=None, right=None):\n",
    "        self.val = val\n",
    "        self.left = left\n",
    "        self.right = right\n",
    "\n",
    "\n",
    "class Solution:\n",
    "    def isValidBST(self, root: Optional[TreeNode]) -> bool:\n",
    "\n",
    "        def isValidBSTUtil(root, min_val, max_val):\n",
    "\n",
    "            # Base case\n",
    "            if not root:\n",
    "                return True\n",
    "\n",
    "            # check boundary cases for left and rightr subtree\n",
    "            if root.val > max_val or root.val < min_val:\n",
    "                return False\n",
    "            \n",
    "            # Traverse through left and right trees\n",
    "            # left => [min , val -1]\n",
    "            # right => [val + 1, max]\n",
    "            return isValidBSTUtil(root.left, min_val, root.val - 1) and isValidBSTUtil(root.right, root.val + 1, max_val)\n",
    "        return isValidBSTUtil(root, -math.inf, math.inf)"
   ]
  }
 ],
 "metadata": {
  "kernelspec": {
   "display_name": "Python 3",
   "language": "python",
   "name": "python3"
  },
  "language_info": {
   "codemirror_mode": {
    "name": "ipython",
    "version": 3
   },
   "file_extension": ".py",
   "mimetype": "text/x-python",
   "name": "python",
   "nbconvert_exporter": "python",
   "pygments_lexer": "ipython3",
   "version": "3.9.7 (tags/v3.9.7:1016ef3, Aug 30 2021, 20:19:38) [MSC v.1929 64 bit (AMD64)]"
  },
  "orig_nbformat": 4,
  "vscode": {
   "interpreter": {
    "hash": "c347c8f9a7ef94e4c9e03b4513be7835ed18f45b99a2a817fb579f408b867b16"
   }
  }
 },
 "nbformat": 4,
 "nbformat_minor": 2
}
