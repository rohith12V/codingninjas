{
 "cells": [
  {
   "cell_type": "code",
   "execution_count": 67,
   "metadata": {},
   "outputs": [],
   "source": [
    "name_list = [\n",
    "    \"Traci Peters\"\n",
    ",\"Tanya Padilla\"\n",
    ",\"Tabitha Reid\"\n",
    ",\"Tasha Todd\"\n",
    ",\"Tommie Hunter\"\n",
    ",\"Tyler Mitchell\"\n",
    ",\"Tommie Dixon\"\n",
    ",\"Toby Beck\",\"Tracy Mendez\"\n",
    "]"
   ]
  },
  {
   "cell_type": "code",
   "execution_count": 68,
   "metadata": {},
   "outputs": [],
   "source": [
    "def filter_first_names():\n",
    "    print(\"What letter does the first name begin with?\")\n",
    "    letter = input().upper()\n",
    "    return filter(lambda x: x.startswith(letter), name_list)"
   ]
  },
  {
   "cell_type": "code",
   "execution_count": 69,
   "metadata": {},
   "outputs": [],
   "source": [
    "def filter_last_names():\n",
    "    print(\"What letter does the first name begin with?\")\n",
    "    letter = input()\n",
    "    return filter(name_list, lambda x: x.startsWith(letter))"
   ]
  },
  {
   "cell_type": "code",
   "execution_count": 70,
   "metadata": {},
   "outputs": [],
   "source": [
    "def add_a_name():\n",
    "    return filter(name_list, lambda x: x.startsWith(\"\"))"
   ]
  },
  {
   "cell_type": "code",
   "execution_count": 71,
   "metadata": {},
   "outputs": [],
   "source": [
    "def delete_a_name():\n",
    "    return filter(name_list, lambda x: x.startsWith(\"name\"))\n"
   ]
  },
  {
   "cell_type": "code",
   "execution_count": 72,
   "metadata": {},
   "outputs": [],
   "source": [
    "menu = \"\"\"\n",
    "please select from the following options: \\n\n",
    "1. List all first names beginning with a chosen letter\n",
    "2. List all last names beginning with a chosen letterfilter\n",
    "3. Add a name\n",
    "4. Delete a name\n",
    "5. Exit \\n\n",
    "Option# :\n",
    "\"\"\""
   ]
  },
  {
   "cell_type": "code",
   "execution_count": 73,
   "metadata": {},
   "outputs": [
    {
     "name": "stdout",
     "output_type": "stream",
     "text": [
      "\n",
      "please select from the following options: \n",
      "\n",
      "1. List all first names beginning with a chosen letter\n",
      "2. List all last names beginning with a chosen letterfilter\n",
      "3. Add a name\n",
      "4. Delete a name\n",
      "5. Exit \n",
      "\n",
      "Option# :\n",
      "\n",
      "What letter does the first name begin with?\n"
     ]
    }
   ],
   "source": [
    "print(menu)\n",
    "choice = \"1\"\n",
    "choice2Function = {\n",
    "    \"1\": filter_first_names,\n",
    "    \"2\": filter_last_names,\n",
    "    \"3\": add_a_name,\n",
    "    \"4\": delete_a_name,\n",
    "    \"5\": lambda _: exit()\n",
    "}\n",
    "if choice in choice2Function:\n",
    "    invocation = choice2Function[choice]\n",
    "    invocation()\n"
   ]
  },
  {
   "cell_type": "code",
   "execution_count": null,
   "metadata": {},
   "outputs": [],
   "source": []
  }
 ],
 "metadata": {
  "kernelspec": {
   "display_name": "Python 3",
   "language": "python",
   "name": "python3"
  },
  "language_info": {
   "codemirror_mode": {
    "name": "ipython",
    "version": 3
   },
   "file_extension": ".py",
   "mimetype": "text/x-python",
   "name": "python",
   "nbconvert_exporter": "python",
   "pygments_lexer": "ipython3",
   "version": "3.9.7 (tags/v3.9.7:1016ef3, Aug 30 2021, 20:19:38) [MSC v.1929 64 bit (AMD64)]"
  },
  "orig_nbformat": 4,
  "vscode": {
   "interpreter": {
    "hash": "c347c8f9a7ef94e4c9e03b4513be7835ed18f45b99a2a817fb579f408b867b16"
   }
  }
 },
 "nbformat": 4,
 "nbformat_minor": 2
}
