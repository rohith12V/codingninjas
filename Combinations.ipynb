{
 "cells": [
  {
   "cell_type": "code",
   "execution_count": 8,
   "metadata": {},
   "outputs": [],
   "source": [
    "from typing import List"
   ]
  },
  {
   "cell_type": "markdown",
   "metadata": {},
   "source": [
    "<img src = \"./images/combination_001.png\" />"
   ]
  },
  {
   "cell_type": "code",
   "execution_count": 9,
   "metadata": {},
   "outputs": [],
   "source": [
    "class Solution:\n",
    "\n",
    "    def combine(self, n: int, k: int) -> List[List[int]]:\n",
    "\n",
    "        combinations = []\n",
    "\n",
    "        # as 0 is not in consideration , n = 3 will resemble n is from 0 to 4 [0 -> 3] inclusive\n",
    "        n = n + 1\n",
    "\n",
    "        def traversal(index, path):\n",
    "\n",
    "            # Base Condition \n",
    "            # if we find the path with length k store the copy and return \n",
    "            if len(path) == k:\n",
    "                combinations.append(path.copy())\n",
    "                return\n",
    "            \n",
    "            # Recursion index + 1 -> n\n",
    "            for x_index in range(index + 1, n):\n",
    "\n",
    "                traversal(x_index, path + [x_index])\n",
    "\n",
    "        # init with index 0 and empty path\n",
    "        traversal(0, [])\n",
    "\n",
    "        return combinations"
   ]
  },
  {
   "cell_type": "code",
   "execution_count": 10,
   "metadata": {},
   "outputs": [
    {
     "name": "stdout",
     "output_type": "stream",
     "text": [
      "[[1, 2, 3], [1, 2, 4], [1, 3, 4], [2, 3, 4]]\n"
     ]
    }
   ],
   "source": [
    "print(Solution().combine(4, 3))"
   ]
  }
 ],
 "metadata": {
  "kernelspec": {
   "display_name": "base",
   "language": "python",
   "name": "python3"
  },
  "language_info": {
   "codemirror_mode": {
    "name": "ipython",
    "version": 3
   },
   "file_extension": ".py",
   "mimetype": "text/x-python",
   "name": "python",
   "nbconvert_exporter": "python",
   "pygments_lexer": "ipython3",
   "version": "3.11.5"
  },
  "orig_nbformat": 4
 },
 "nbformat": 4,
 "nbformat_minor": 2
}
