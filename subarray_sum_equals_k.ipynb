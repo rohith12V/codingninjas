{
 "cells": [
  {
   "cell_type": "code",
   "execution_count": null,
   "metadata": {},
   "outputs": [],
   "source": [
    "# number of instances where any sub array sum == k \n",
    "# https://leetcode.com/problems/subarray-sum-equals-k/"
   ]
  },
  {
   "cell_type": "code",
   "execution_count": null,
   "metadata": {},
   "outputs": [],
   "source": [
    "# Approach - 1\n",
    "# O(n**2)\n",
    "# for every index i: 0 => len ; j: i+1 => len calculate the sub array sum\n",
    "\n",
    "\n",
    "# Appraoch - 2\n",
    "# O(n)\n",
    "# example : 10 5 7 1 2 5 3 ; k = 15 \n",
    "\n",
    "# cumm_sum = 10 15  22  23  25  30  33\n",
    "\n",
    "# map : {0 -> 1} # we saw 0 occuring 1 time\n",
    "\n",
    "# index = 0; value = 10; (value - k)= -5 (-5 is not in map); but we saw 10 occuring 1 time\n",
    "# map: {0 -> 1, 10 -> 1}\n",
    "\n",
    "# index = 1; value = 15; value - k = 0 (0 is in map); COUNT+=(freq[0]); we saw 15 also 1 time\n",
    "# map: {0 -> 1, 10 -> 1; 15 -> 1}\n",
    "# ans arr =  [10 5] 7 1 2 5 3\n",
    "\n",
    "# index = 2; value = 2; value - k = 7 (7 is not in map); we saw 22 1 time\n",
    "# map: {0 -> 1, 10 -> 1; 15 -> 1, 22 -> 1}\n",
    "\n",
    "# index = 3; value = 25; value - k = 10 (10 is in map); This indicates that sum(occurance of 10 -> currentIndex) == k\n",
    "# map: {0 -> 1, 10 -> 1; 15 -> 1, 22 -> 1, 25 -> 1}; COUNT+=(freq[10])\n",
    "# ans arr =  10 5 [7 1 2 5] 3\n",
    "# . . .\n"
   ]
  },
  {
   "attachments": {},
   "cell_type": "markdown",
   "metadata": {},
   "source": [
    "First of all, *the basic idea behind this code is that, whenever sums has increased by a value of k, we've found a subarray of sums=k.*\n",
    "\n",
    "I'll also explain why we need to initialise 0 in the hashmap.\n",
    "Example: Let's say our elements are [1,2,1,3] and k = 3.\n",
    "and our corresponding running sums = [1,3,4,7]\n",
    "Now, if you notice the running sums array, **from 1->4, there is increase of k** and **from 4->7, there is an increase of k**. So, we've found 2 subarrays of sums=k.\n",
    "\n",
    "But, if you look at the original array, there are 3 subarrays of sums==k. Now, you'll understand why 0 comes in the picture.\n",
    "\n",
    "In the above example, 4-1=k and 7-4=k. Hence, we concluded that there are 2 subarrays.\n",
    "However, if sums==k, it should've been 3-0=k. **But 0 is not present in the array**. **To account for this case, we include the 0.**"
   ]
  },
  {
   "cell_type": "code",
   "execution_count": 14,
   "metadata": {},
   "outputs": [
    {
     "name": "stdout",
     "output_type": "stream",
     "text": [
      "3\n"
     ]
    }
   ],
   "source": [
    "from typing import List\n",
    "from collections import defaultdict\n",
    "\n",
    "class Solution:\n",
    "    # get Cummulative sum\n",
    "    # [1, 2, 3] => [1, 3, 6]\n",
    "    def _get_cummulative_frequency(self, nums):\n",
    "        cumm_nums = [nums[0]]\n",
    "        for num in nums[1:]:\n",
    "            cumm_nums.append(cumm_nums[-1] + num)\n",
    "        return cumm_nums\n",
    "    \n",
    "    def subarraySum(self, nums: List[int], k: int) -> int:\n",
    "\n",
    "        # calculate the cummulative sum \n",
    "        cumm_nums = self._get_cummulative_frequency(nums)\n",
    "\n",
    "        # init map with an element 0 which occured 1 time\n",
    "        hash_map = defaultdict(int)\n",
    "        hash_map[0] = 1\n",
    "\n",
    "        # final answer variable\n",
    "        count = 0\n",
    "        \n",
    "        # iterate through cummulative array \n",
    "        for (index, value) in enumerate(cumm_nums):\n",
    "\n",
    "            # if we found any element which occcured previously at k\n",
    "            # sum(k + 1 to index) == k\n",
    "            if ((value - k) in hash_map):\n",
    "                count += hash_map[value-k]\n",
    "            \n",
    "            # increment count.\n",
    "            hash_map[value] += 1\n",
    "        return count\n",
    "\n",
    "\n",
    "ob = Solution()\n",
    "print(ob.subarraySum([1, -1, 0], 0))\n"
   ]
  }
 ],
 "metadata": {
  "kernelspec": {
   "display_name": "Python 3",
   "language": "python",
   "name": "python3"
  },
  "language_info": {
   "codemirror_mode": {
    "name": "ipython",
    "version": 3
   },
   "file_extension": ".py",
   "mimetype": "text/x-python",
   "name": "python",
   "nbconvert_exporter": "python",
   "pygments_lexer": "ipython3",
   "version": "3.9.7 (tags/v3.9.7:1016ef3, Aug 30 2021, 20:19:38) [MSC v.1929 64 bit (AMD64)]"
  },
  "orig_nbformat": 4,
  "vscode": {
   "interpreter": {
    "hash": "c347c8f9a7ef94e4c9e03b4513be7835ed18f45b99a2a817fb579f408b867b16"
   }
  }
 },
 "nbformat": 4,
 "nbformat_minor": 2
}
