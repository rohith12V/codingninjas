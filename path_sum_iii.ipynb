{
 "cells": [
  {
   "attachments": {},
   "cell_type": "markdown",
   "metadata": {},
   "source": [
    "https://leetcode.com/problems/path-sum-iii/"
   ]
  },
  {
   "attachments": {},
   "cell_type": "markdown",
   "metadata": {},
   "source": [
    "<img src=\"./images/3.jpg\" />\n",
    "\n",
    "target = 8"
   ]
  },
  {
   "cell_type": "code",
   "execution_count": null,
   "metadata": {},
   "outputs": [],
   "source": [
    "# Approach == Sub Array with sum = k"
   ]
  },
  {
   "cell_type": "code",
   "execution_count": 4,
   "metadata": {},
   "outputs": [],
   "source": [
    "# Definition for a binary tree node.\n",
    "class TreeNode:\n",
    "    def __init__(self, val=0, left=None, right=None):\n",
    "        self.val = val\n",
    "        self.left = left\n",
    "        self.right = right"
   ]
  },
  {
   "cell_type": "code",
   "execution_count": 5,
   "metadata": {},
   "outputs": [],
   "source": [
    "node = TreeNode(10, left=TreeNode(5, left = TreeNode(3, left=TreeNode(3), right=TreeNode(-2)), right=TreeNode(2, right=TreeNode(1))), right=TreeNode(-3, right=TreeNode(11)))"
   ]
  },
  {
   "cell_type": "code",
   "execution_count": 10,
   "metadata": {},
   "outputs": [
    {
     "name": "stdout",
     "output_type": "stream",
     "text": [
      "3\n"
     ]
    }
   ],
   "source": [
    "from typing import Optional\n",
    "from collections import defaultdict\n",
    "\n",
    "class Solution:\n",
    "    def pathSum(self, root: Optional[TreeNode], targetSum: int) -> int:\n",
    "\n",
    "        paths_count = 0 # to store the no: of paths which satisfies node -> leaf sum == targetSum\n",
    "\n",
    "        hash_map = defaultdict(int)\n",
    "\n",
    "        # to cover case k - 0 = k (single item can also be a subarray)\n",
    "        hash_map[0] = 1\n",
    "\n",
    "        def traversePath(node, cumm_sum):\n",
    "\n",
    "            nonlocal paths_count\n",
    "\n",
    "            # if we see our sum has increased by k \n",
    "            # we update count\n",
    "            if (cumm_sum - targetSum) in hash_map:\n",
    "                paths_count += (hash_map[cumm_sum - targetSum])\n",
    "            \n",
    "            hash_map[cumm_sum] += 1\n",
    "\n",
    "            if node.left:\n",
    "                traversePath(node.left, node.left.val + cumm_sum)\n",
    "            \n",
    "            if node.right:\n",
    "                traversePath(node.right, node.right.val + cumm_sum)\n",
    "\n",
    "            # remove the retracement cumm_sum\n",
    "            hash_map[cumm_sum] -= 1\n",
    "            \n",
    "        # traverse only if we have a defined root.\n",
    "        if root:\n",
    "            traversePath(root, root.val)\n",
    "        \n",
    "        # return paths\n",
    "        return paths_count\n",
    "\n",
    "print(Solution().pathSum(node, 8))"
   ]
  }
 ],
 "metadata": {
  "kernelspec": {
   "display_name": "Python 3",
   "language": "python",
   "name": "python3"
  },
  "language_info": {
   "codemirror_mode": {
    "name": "ipython",
    "version": 3
   },
   "file_extension": ".py",
   "mimetype": "text/x-python",
   "name": "python",
   "nbconvert_exporter": "python",
   "pygments_lexer": "ipython3",
   "version": "3.9.7"
  },
  "orig_nbformat": 4,
  "vscode": {
   "interpreter": {
    "hash": "c347c8f9a7ef94e4c9e03b4513be7835ed18f45b99a2a817fb579f408b867b16"
   }
  }
 },
 "nbformat": 4,
 "nbformat_minor": 2
}
