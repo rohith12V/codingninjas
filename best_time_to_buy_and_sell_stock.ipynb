{
 "cells": [
  {
   "cell_type": "markdown",
   "metadata": {},
   "source": [
    "Input: prices = [7,1,5,3,6,4]\n",
    "Output: 5\n",
    "Explanation: Buy on day 2 (price = 1) and sell on day 5 (price = 6), profit = 6-1 = 5.\n",
    "Note that buying on day 2 and selling on day 1 is not allowed because you must buy before you sell."
   ]
  },
  {
   "attachments": {},
   "cell_type": "markdown",
   "metadata": {},
   "source": [
    "# Approach \n",
    "# Buy on First day\n",
    "# sell on second day, if profit is negative then dont buy on first day and buy on second day\n",
    "# if profit is positive (local), keep track of global profit observed so far.\n",
    "# similarly check by selling on consequtive indices\n",
    "\n",
    "# only one transaction is allowed"
   ]
  },
  {
   "cell_type": "code",
   "execution_count": null,
   "metadata": {},
   "outputs": [],
   "source": [
    "from typing import List\n",
    "\n",
    "\n",
    "class Solution:\n",
    "    def maxProfit(self, prices: List[int]) -> int:\n",
    "        # Buy on Day - 1\n",
    "        buy_price = prices[0]\n",
    "\n",
    "        # Global profit\n",
    "        total_profit = 0\n",
    "\n",
    "        for price in prices[1:]:\n",
    "\n",
    "            # if current day buy price is less then update buy price to todays price\n",
    "            if price - buy_price < 0 :\n",
    "\n",
    "                buy_price = price\n",
    "                \n",
    "                # as we bought today we cannot see it so continue to next day\n",
    "                continue\n",
    "\n",
    "            # calculate the profit \n",
    "            profit = price - buy_price\n",
    "\n",
    "            # keep track of global profit observed so far\n",
    "            total_profit = max(profit, total_profit)\n",
    "        \n",
    "        return total_profit\n",
    "        "
   ]
  }
 ],
 "metadata": {
  "kernelspec": {
   "display_name": "Python 3",
   "language": "python",
   "name": "python3"
  },
  "language_info": {
   "name": "python",
   "version": "3.9.7"
  },
  "orig_nbformat": 4,
  "vscode": {
   "interpreter": {
    "hash": "c347c8f9a7ef94e4c9e03b4513be7835ed18f45b99a2a817fb579f408b867b16"
   }
  }
 },
 "nbformat": 4,
 "nbformat_minor": 2
}
