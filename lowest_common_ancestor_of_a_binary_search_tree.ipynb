{
 "cells": [
  {
   "cell_type": "code",
   "execution_count": null,
   "metadata": {},
   "outputs": [],
   "source": [
    "# lowest node T that has both p and q as children"
   ]
  },
  {
   "cell_type": "code",
   "execution_count": 8,
   "metadata": {},
   "outputs": [],
   "source": [
    "# Definition for a binary tree node.\n",
    "class TreeNode:\n",
    "    def __init__(self, data= None, left = None, right = None):\n",
    "        self.left = left\n",
    "        self.right = right\n",
    "        self.data = data"
   ]
  },
  {
   "attachments": {},
   "cell_type": "markdown",
   "metadata": {},
   "source": [
    "<img src=\"./images/5.png\">"
   ]
  },
  {
   "attachments": {},
   "cell_type": "markdown",
   "metadata": {},
   "source": [
    "<img src=\"./images/6.png\" width=50%/>"
   ]
  },
  {
   "cell_type": "code",
   "execution_count": null,
   "metadata": {},
   "outputs": [],
   "source": [
    "# Case 1: if any one of the child matches -> return that matched child up the hierarchy \n",
    "# case 2: if root matches -> return the matched root up the hierarchy \n",
    "# case 3: if we get a match from both left and right sub trees then return the current node up the hierarchy "
   ]
  },
  {
   "cell_type": "code",
   "execution_count": 4,
   "metadata": {},
   "outputs": [],
   "source": [
    "class Solution:\n",
    "    def lowestCommonAncestor(self, root: 'TreeNode', p: 'TreeNode', q: 'TreeNode') -> 'TreeNode':\n",
    "        # Traversal\n",
    "        def traverse(node):\n",
    "            # Base Condition \n",
    "            if not node:\n",
    "                return None\n",
    "            \n",
    "            # Base Codnition (return matched node up the hierarchy)\n",
    "            if node == p or node == q:\n",
    "                return node\n",
    "\n",
    "            left  = traverse(node.left)\n",
    "            right = traverse(node.right)\n",
    "\n",
    "            # if we get valid found nodes from left anf right subtree\n",
    "            # then we can be sure that this node is the least common parent for\n",
    "            # both of the children\n",
    "            if left!=None and right!=None:\n",
    "                return node\n",
    "            # return non-null matched node up the hierrachy\n",
    "            return left or right\n",
    "            \n",
    "        return traverse(root)\n"
   ]
  },
  {
   "cell_type": "code",
   "execution_count": 9,
   "metadata": {},
   "outputs": [],
   "source": [
    "\n",
    "node = TreeNode(6, left = TreeNode(2, left = TreeNode(0), right=TreeNode(4, left = TreeNode(3), right=TreeNode(5))), right=TreeNode(8, left = TreeNode(7, right=TreeNode(9))))"
   ]
  }
 ],
 "metadata": {
  "kernelspec": {
   "display_name": "Python 3",
   "language": "python",
   "name": "python3"
  },
  "language_info": {
   "codemirror_mode": {
    "name": "ipython",
    "version": 3
   },
   "file_extension": ".py",
   "mimetype": "text/x-python",
   "name": "python",
   "nbconvert_exporter": "python",
   "pygments_lexer": "ipython3",
   "version": "3.9.7 (tags/v3.9.7:1016ef3, Aug 30 2021, 20:19:38) [MSC v.1929 64 bit (AMD64)]"
  },
  "orig_nbformat": 4,
  "vscode": {
   "interpreter": {
    "hash": "c347c8f9a7ef94e4c9e03b4513be7835ed18f45b99a2a817fb579f408b867b16"
   }
  }
 },
 "nbformat": 4,
 "nbformat_minor": 2
}
