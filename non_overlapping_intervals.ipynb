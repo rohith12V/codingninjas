{
 "cells": [
  {
   "attachments": {},
   "cell_type": "markdown",
   "metadata": {},
   "source": [
    "<!-- the minimum number of intervals you need to remove to make the rest of the intervals non-overlapping. -->\n",
    "<!-- In Order to return minimum intervals we have to target maximum margin ranges. -->"
   ]
  },
  {
   "cell_type": "markdown",
   "metadata": {},
   "source": [
    "Input: intervals = [[1,2],[2,3],[3,4],[1,3]]\n",
    "Output: 1\n",
    "Explanation: [1,3] can be removed and the rest of the intervals are non-overlapping."
   ]
  },
  {
   "attachments": {},
   "cell_type": "markdown",
   "metadata": {},
   "source": [
    "<img src = \"./images/11.jpg\" style=\"width:800px\"/>"
   ]
  },
  {
   "cell_type": "code",
   "execution_count": null,
   "metadata": {},
   "outputs": [],
   "source": [
    "from typing import List\n",
    "\n",
    "class Solution:\n",
    "    def eraseOverlapIntervals(self, intervals: List[List[int]]) -> int:\n",
    "        # Sort the List to make sure we are alwayd forwarding on the 1st parameter\n",
    "        intervals.sort()\n",
    "\n",
    "        # variable to hold min number of removals\n",
    "        count = 0\n",
    "\n",
    "        # hold the first boundary value\n",
    "        y_end = intervals[0][1]\n",
    "\n",
    "        # Traverse through rest of the intervals\n",
    "        for [x_start, x_end] in intervals[1:]:\n",
    "\n",
    "            # if overlap occurs\n",
    "            if x_start < y_end:\n",
    "                \n",
    "                # definitely there must be one removal\n",
    "                count += 1\n",
    "\n",
    "                # new end will be min of known ends\n",
    "                y_end = min(y_end, x_end)\n",
    "            else:\n",
    "                # if overlap does not occur we update end to current\n",
    "                y_end = x_end\n",
    "\n",
    "        # return Count\n",
    "        return count\n"
   ]
  }
 ],
 "metadata": {
  "kernelspec": {
   "display_name": "Python 3",
   "language": "python",
   "name": "python3"
  },
  "language_info": {
   "name": "python",
   "version": "3.9.7 (tags/v3.9.7:1016ef3, Aug 30 2021, 20:19:38) [MSC v.1929 64 bit (AMD64)]"
  },
  "orig_nbformat": 4,
  "vscode": {
   "interpreter": {
    "hash": "c347c8f9a7ef94e4c9e03b4513be7835ed18f45b99a2a817fb579f408b867b16"
   }
  }
 },
 "nbformat": 4,
 "nbformat_minor": 2
}
