{
 "cells": [
  {
   "cell_type": "code",
   "execution_count": 28,
   "metadata": {},
   "outputs": [
    {
     "name": "stdout",
     "output_type": "stream",
     "text": [
      "[4, 6, 4, 2, 6]\n",
      "4\n",
      "[5, 7, 14]\n",
      "1\n"
     ]
    }
   ],
   "source": [
    "def subarraysXor(arr, target):\n",
    "    prefix_array = []\n",
    "    index = 1\n",
    "    recent = 0\n",
    "    for value in arr:\n",
    "        prefix_array.append(recent ^ value)\n",
    "        recent = prefix_array[-1]\n",
    "        index += 1\n",
    "    count = 0\n",
    "    print(prefix_array)\n",
    "    for x_index in range(0, len(arr)):\n",
    "        for y_index in range(x_index + 1, len(arr)):\n",
    "            xor_value = prefix_array[y_index] ^ (prefix_array[x_index - 1] if x_index > 0 else 0)\n",
    "            if xor_value == target:\n",
    "                count += 1\n",
    "    return count + arr.count(target)\n",
    "print(subarraysXor([4,2,2,6,4], 6))\n",
    "print(subarraysXor([5, 2, 9], 7))"
   ]
  },
  {
   "cell_type": "code",
   "execution_count": 29,
   "metadata": {},
   "outputs": [],
   "source": [
    "def calc_xor(array):\n",
    "    res = 0\n",
    "    for value in array:\n",
    "        res ^= value\n",
    "    return res"
   ]
  },
  {
   "cell_type": "code",
   "execution_count": 2,
   "metadata": {},
   "outputs": [
    {
     "name": "stdout",
     "output_type": "stream",
     "text": [
      "3\n"
     ]
    }
   ],
   "source": [
    "from collections import defaultdict\n",
    "def subArrayXor(arr, target):\n",
    "    freq_map = {0:0}\n",
    "    prefix_array = get_prefix_array(arr)\n",
    "    count = 0\n",
    "    for value in prefix_array:\n",
    "        y = target ^ value\n",
    "        if y in freq_map:\n",
    "            freq_map[y] += 1\n",
    "            count += 1\n",
    "        else:\n",
    "            freq_map[y]  = 1\n",
    "    return count\n",
    "\n",
    "def get_prefix_array(arr):\n",
    "    prefix_array = []\n",
    "    index = 1\n",
    "    recent = 0\n",
    "    for value in arr:\n",
    "        prefix_array.append(recent ^ value)\n",
    "        recent = prefix_array[-1]\n",
    "        index += 1\n",
    "    return prefix_array\n",
    "\n",
    "print(subArrayXor([4, 2, 2, 6, 4], target = 6))"
   ]
  }
 ],
 "metadata": {
  "kernelspec": {
   "display_name": "Python 3",
   "language": "python",
   "name": "python3"
  },
  "language_info": {
   "codemirror_mode": {
    "name": "ipython",
    "version": 3
   },
   "file_extension": ".py",
   "mimetype": "text/x-python",
   "name": "python",
   "nbconvert_exporter": "python",
   "pygments_lexer": "ipython3",
   "version": "3.9.12"
  },
  "orig_nbformat": 4,
  "vscode": {
   "interpreter": {
    "hash": "f49206fcf84a9145e7e21228cbafa911d1ac18292303b01e865d8267a9c448f7"
   }
  }
 },
 "nbformat": 4,
 "nbformat_minor": 2
}
