{
 "cells": [
  {
   "attachments": {},
   "cell_type": "markdown",
   "metadata": {},
   "source": [
    "Input: arr = [4,2,1,3]\n",
    "Output: [[1,2],[2,3],[3,4]]\n",
    "Explanation: The minimum absolute difference is 1. List all pairs with difference equal to 1 in ascending order.\n",
    "\n",
    "\n",
    "Input: arr = [1,3,6,10,15]\n",
    "Output: [[1,3]]\n",
    "Explanation: Here min difference is 2 and we have one entry for that diffference"
   ]
  },
  {
   "cell_type": "code",
   "execution_count": null,
   "metadata": {},
   "outputs": [],
   "source": [
    "from typing import List\n",
    "\n",
    "\n",
    "class Solution:\n",
    "    def minimumAbsDifference(self, arr: List[int]) -> List[List[int]]:\n",
    "        # Sort the Array\n",
    "        arr.sort()\n",
    "        min_diff = float(\"inf\")\n",
    "        result_set = []\n",
    "\n",
    "        index = 1\n",
    "\n",
    "        while index < len(arr):\n",
    "            diff = arr[index] - arr[index - 1]\n",
    "            # if our difference is < min so far update min_so_far\n",
    "            # clear result set as we found new low\n",
    "            if diff < min_diff:\n",
    "                min_diff = diff\n",
    "                result_set.clear()\n",
    "            # update the array with new low value\n",
    "            if min_diff == diff:\n",
    "                result_set.append([arr[index - 1], arr[index]])\n",
    "            # traversal\n",
    "            index += 1\n",
    "        return result_set\n",
    "        "
   ]
  }
 ],
 "metadata": {
  "language_info": {
   "name": "python"
  },
  "orig_nbformat": 4
 },
 "nbformat": 4,
 "nbformat_minor": 2
}
