{
 "cells": [
  {
   "cell_type": "markdown",
   "metadata": {},
   "source": [
    "# <span style=\"color: #4CAF50; font-size: 24px; font-family: 'Arial', sans-serif;\">Variation - 1</span>\n",
    "\n",
    "<span style=\"color: white; font-size: 16px; font-family: 'Helvetica', sans-serif;\">\n",
    "Find out if we can reach the end index (no constraint on the number of steps taken, if not possible return -1)\n",
    "</span>\n"
   ]
  },
  {
   "cell_type": "code",
   "execution_count": 3,
   "metadata": {},
   "outputs": [
    {
     "name": "stdout",
     "output_type": "stream",
     "text": [
      "True\n",
      "False\n"
     ]
    }
   ],
   "source": [
    "# arr = [2, 3, 1, 1, 4]\n",
    "# jumps = [F, F, F, F, T]\n",
    "\n",
    "# instead of going from start, come from backwards\n",
    "\n",
    "# index = 3 can reach last index (3 + 1 arr[index]) jumps[3] = T\n",
    "# jumps = [F, F, F, T, T]\n",
    "\n",
    "# now our target is to reach to the new end which is index 3\n",
    "# index = 2 can reach index 3 jumps[2] = T\n",
    "# jumps = [F, F, T, T, T]\n",
    "\n",
    "# now our target is to reach to the new end which is index 4\n",
    "# index = 2 can reach index 3 jumps[1] = T\n",
    "# jumps = [F, T, T, T, T]\n",
    "\n",
    "# jumps[0] = True\n",
    "\n",
    "# Single pass\n",
    "\n",
    "\n",
    "def canReach(arr):\n",
    "\n",
    "    target = len(arr) - 1\n",
    "\n",
    "    is_reachable = [False for _ in range(len(arr))]\n",
    "    is_reachable[-1] = True\n",
    "\n",
    "    for index in range(target - 1, -1, -1):\n",
    "\n",
    "        value = arr[index]\n",
    "\n",
    "        # if we can reach the latest end state we can say we can reach to last stair from that index.\n",
    "        if (index + value) >= target:\n",
    "\n",
    "            is_reachable[index] = True\n",
    "\n",
    "            target = index\n",
    "    \n",
    "    return is_reachable[0]\n",
    "\n",
    "\n",
    "print(canReach([2, 3, 1, 1, 4]))\n",
    "print(canReach([3, 2, 1, 0, 1]))"
   ]
  },
  {
   "cell_type": "markdown",
   "metadata": {},
   "source": [
    "# <span style=\"color: #2196F3; font-size: 24px; font-family: 'Arial', sans-serif;\">Variation - 2</span>\n",
    "\n",
    "<span style=\"color: white; font-size: 16px; font-family: 'Helvetica', sans-serif;\">\n",
    "How many steps do we need to reach the end (identify min steps, if not possible return -1)\n",
    "</span>"
   ]
  },
  {
   "cell_type": "code",
   "execution_count": 4,
   "metadata": {},
   "outputs": [],
   "source": [
    "from typing import List\n",
    "import heapq"
   ]
  },
  {
   "cell_type": "code",
   "execution_count": 5,
   "metadata": {},
   "outputs": [],
   "source": [
    "# Approach - 1 & 2 (Recurssion Tree & DP)\n",
    "\n",
    "# 1. Use Recursion Tree - O(n**n)\n",
    "# 2. Use Dp - O(n**2)\n",
    "\n",
    "def minJumps_dp(arr):\n",
    "\n",
    "    # Holds min jumps required top reach end.\n",
    "    dp = [-1 for _ in range(len(arr))]\n",
    "\n",
    "    # we can reach end state with 0 jumps\n",
    "    dp[len(arr) - 1] = 0\n",
    "\n",
    "    def jump(index):\n",
    "\n",
    "        # if we go on or above the end index , we can conclude that we can reach end\n",
    "        if index >= len(arr):\n",
    "            # end state will require 0 jumps to reach end\n",
    "            return 0\n",
    "\n",
    "        # use previously calc result if available\n",
    "        if dp[index] != -1:\n",
    "\n",
    "            return dp[index]\n",
    "\n",
    "        # this variable will contain the min value among all the available options\n",
    "        min_jumps = float(\"inf\")\n",
    "\n",
    "        # jump_size = 1 to arr[iondex]\n",
    "        for i in range(1, arr[index] + 1):\n",
    "\n",
    "            min_jumps = min(min_jumps, jump(index + i))\n",
    "            \n",
    "        dp[index] = 1 + min_jumps\n",
    "\n",
    "        return dp[index]\n",
    "\n",
    "    # we start with 1st available slot\n",
    "    jump(0)\n",
    "\n",
    "    # DP[0] will have the least number of steps to reach end\n",
    "    return dp[0] if dp[0] != float(\"inf\") else -1"
   ]
  },
  {
   "cell_type": "code",
   "execution_count": 6,
   "metadata": {},
   "outputs": [],
   "source": [
    "# Approach - 3 (Using BFS)\n",
    "# Most-important approach\n",
    "\n",
    "# stairs = [2, 3, 1, 1, 4, 4, 4, 3]\n",
    "\n",
    "# Level - [2] L0, [3, 1] L1, [1, 4, 4, 3] L2\n",
    "\n",
    "# L1 will contain all the indices that are reachable from level 0\n",
    "# L2 will contain all the indices that are reachable from level 1\n",
    "\n",
    "# min number of jumps = number of levels\n",
    "\n",
    "def isInRange(arr, index):\n",
    "\n",
    "    if index < 0 or index >= len(arr):\n",
    "\n",
    "        return False\n",
    "\n",
    "    return True\n",
    "\n",
    "def minJumps_bfs(arr):\n",
    "\n",
    "    level = -1\n",
    "\n",
    "    iterations = 0\n",
    "\n",
    "    q = [(0, arr[0])]\n",
    "\n",
    "    visited = set([0])\n",
    "\n",
    "    while q:\n",
    "\n",
    "        size = len(q)\n",
    "\n",
    "        level += 1\n",
    "\n",
    "        while size > 0:\n",
    "\n",
    "            iterations += 1\n",
    "\n",
    "            (index, value) = q.pop(0)\n",
    "\n",
    "            if index >= len(arr) - 1:\n",
    "\n",
    "                return level\n",
    "\n",
    "            for i in range(1, value + 1):\n",
    "\n",
    "                if isInRange(arr, index + i) and (index + i) not in visited:\n",
    "\n",
    "                    visited.add(index + i)\n",
    "\n",
    "                    q.append((index + i, arr[index + i]))\n",
    "\n",
    "            size -= 1\n",
    "    \n",
    "\n",
    "    return -1"
   ]
  },
  {
   "cell_type": "code",
   "execution_count": 7,
   "metadata": {},
   "outputs": [],
   "source": [
    "# approach - 4 (Using Priority Q)\n",
    "\n",
    "def minJumps_pq(nums: List[int]) -> int:\n",
    "    cost_queue = []\n",
    "\n",
    "    # if we have only 1 element then that is the end target.\n",
    "    # requires 0 steps\n",
    "    if len(nums) <= 1:\n",
    "        return 0\n",
    "\n",
    "    # use min que as max que using negation\n",
    "    heapq.heappush(cost_queue, (-nums[0], 1, 0))\n",
    "    heapq.heapify(cost_queue)\n",
    "\n",
    "    while cost_queue:\n",
    "        # always pick the index which is close to the target this will help us to reach the target more quickly \n",
    "        # cost will contain the min jumps required to reach to that index\n",
    "        (max_reachable, cost, index) = heapq.heappop(cost_queue)\n",
    "\n",
    "        # base condition\n",
    "        if abs(max_reachable) >= len(nums) - 1:\n",
    "            return cost\n",
    "        \n",
    "        # jump size = 1 to max_reachable\n",
    "        for i in range(index + 1, abs(max_reachable) + 1):\n",
    "            # base condition\n",
    "            if i < len(nums):\n",
    "                heapq.heappush(cost_queue, (\n",
    "                    -(i + nums[i]),\n",
    "                    cost+1,\n",
    "                    i))\n",
    "    # if not reachable return -1\n",
    "    return - 1"
   ]
  },
  {
   "cell_type": "code",
   "execution_count": 8,
   "metadata": {},
   "outputs": [
    {
     "name": "stdout",
     "output_type": "stream",
     "text": [
      "5\n",
      "5\n",
      "5\n"
     ]
    }
   ],
   "source": [
    "arr = [2, 3, 1, 1, 4, 2, 3, 1, 1, 4, 2, 3, 1, 1]\n",
    "print(minJumps_dp(arr))\n",
    "print(minJumps_pq(arr))\n",
    "print(minJumps_bfs(arr))"
   ]
  },
  {
   "cell_type": "code",
   "execution_count": 9,
   "metadata": {},
   "outputs": [
    {
     "name": "stdout",
     "output_type": "stream",
     "text": [
      "2\n",
      "2\n",
      "2\n"
     ]
    }
   ],
   "source": [
    "arr = [2, 3, 1, 1, 4]\n",
    "print(minJumps_dp(arr))\n",
    "print(minJumps_pq(arr))\n",
    "print(minJumps_bfs(arr))"
   ]
  },
  {
   "cell_type": "code",
   "execution_count": 10,
   "metadata": {},
   "outputs": [
    {
     "name": "stdout",
     "output_type": "stream",
     "text": [
      "-1\n",
      "-1\n",
      "-1\n"
     ]
    }
   ],
   "source": [
    "arr = [3, 2, 1, 0, 1]\n",
    "print(minJumps_dp(arr))\n",
    "print(minJumps_pq(arr))\n",
    "print(minJumps_bfs(arr))"
   ]
  }
 ],
 "metadata": {
  "kernelspec": {
   "display_name": "base",
   "language": "python",
   "name": "python3"
  },
  "language_info": {
   "codemirror_mode": {
    "name": "ipython",
    "version": 3
   },
   "file_extension": ".py",
   "mimetype": "text/x-python",
   "name": "python",
   "nbconvert_exporter": "python",
   "pygments_lexer": "ipython3",
   "version": "3.11.5"
  },
  "orig_nbformat": 4
 },
 "nbformat": 4,
 "nbformat_minor": 2
}
