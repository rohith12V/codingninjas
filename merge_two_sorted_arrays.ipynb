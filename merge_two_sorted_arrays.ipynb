{
 "cells": [
  {
   "attachments": {},
   "cell_type": "markdown",
   "metadata": {},
   "source": [
    "num1 contains lenth m + n "
   ]
  },
  {
   "attachments": {},
   "cell_type": "markdown",
   "metadata": {},
   "source": [
    "<img src = \"./images/leetcode_88_condition1.png\" />"
   ]
  },
  {
   "attachments": {},
   "cell_type": "markdown",
   "metadata": {},
   "source": [
    "<img src = \"./images/leetcode_88_condition2.png\" />"
   ]
  },
  {
   "cell_type": "code",
   "execution_count": null,
   "metadata": {},
   "outputs": [],
   "source": [
    "from typing import List\n",
    "\n",
    "class Solution:\n",
    "    def merge(self, nums1: List[int], m: int, nums2: List[int], n: int) -> None:\n",
    "\n",
    "        a_ptr = m - 1\n",
    "        b_ptr = len(nums1) - 1 # from end of first array\n",
    "        c_ptr = n - 1\n",
    "\n",
    "        while b_ptr >= 0:\n",
    "            # nums1 has the max value then\n",
    "            if a_ptr >= 0 and c_ptr >= 0 and nums1[a_ptr] >= nums2[c_ptr]:\n",
    "\n",
    "                nums1[b_ptr] = nums1[a_ptr]\n",
    "\n",
    "                a_ptr -= 1\n",
    "            # nums2 has the max value then\n",
    "            elif c_ptr >= 0 and a_ptr >= 0 and nums2[c_ptr] > nums1[a_ptr]:\n",
    "\n",
    "                nums1[b_ptr] = nums2[c_ptr]\n",
    "\n",
    "                c_ptr -= 1\n",
    "\n",
    "            b_ptr -= 1\n",
    "\n",
    "        # Evaporate the nums2 Array\n",
    "        while c_ptr >= 0:\n",
    "\n",
    "            nums1[c_ptr] = nums2[c_ptr]\n",
    "\n",
    "            c_ptr -= 1"
   ]
  }
 ],
 "metadata": {
  "kernelspec": {
   "display_name": "Python 3",
   "language": "python",
   "name": "python3"
  },
  "language_info": {
   "name": "python",
   "version": "3.9.7"
  },
  "orig_nbformat": 4,
  "vscode": {
   "interpreter": {
    "hash": "c347c8f9a7ef94e4c9e03b4513be7835ed18f45b99a2a817fb579f408b867b16"
   }
  }
 },
 "nbformat": 4,
 "nbformat_minor": 2
}
