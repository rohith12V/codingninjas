{
 "cells": [
  {
   "cell_type": "code",
   "execution_count": null,
   "metadata": {},
   "outputs": [],
   "source": [
    "from collections import Counter\n",
    "\n",
    "\n",
    "class Solution:\n",
    "    def longestPalindrome(self, s: str) -> int:\n",
    "        freq = Counter(s)\n",
    "        remainder = 0\n",
    "        count = 0\n",
    "        for key in freq:\n",
    "            value = freq[key]\n",
    "\n",
    "            # any Even length elementscan form a palindriome at any cost \n",
    "            count  += ((value // 2) * 2)\n",
    "\n",
    "            # accumulate all odd length elemnts \n",
    "            remainder += (value % 2)\n",
    "            \n",
    "        # count + 1 (<even> <any one letter from odd remainder> <even>)\n",
    "        # else count\n",
    "        return count + 1 if remainder > 0 else count\n",
    "        "
   ]
  }
 ],
 "metadata": {
  "kernelspec": {
   "display_name": "Python 3",
   "language": "python",
   "name": "python3"
  },
  "language_info": {
   "name": "python",
   "version": "3.9.7 (tags/v3.9.7:1016ef3, Aug 30 2021, 20:19:38) [MSC v.1929 64 bit (AMD64)]"
  },
  "orig_nbformat": 4,
  "vscode": {
   "interpreter": {
    "hash": "c347c8f9a7ef94e4c9e03b4513be7835ed18f45b99a2a817fb579f408b867b16"
   }
  }
 },
 "nbformat": 4,
 "nbformat_minor": 2
}
