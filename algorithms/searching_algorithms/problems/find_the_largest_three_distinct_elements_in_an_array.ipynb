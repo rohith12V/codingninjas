{
 "cells": [
  {
   "cell_type": "markdown",
   "metadata": {},
   "source": [
    "Input: arr[] = {10, 4, 3, 50, 23, 90}\n",
    "Output: 90, 50, 23"
   ]
  },
  {
   "attachments": {},
   "cell_type": "markdown",
   "metadata": {},
   "source": [
    "`Approach - 1 (O(nlogn))` `Complete Sort`"
   ]
  },
  {
   "cell_type": "code",
   "execution_count": 38,
   "metadata": {},
   "outputs": [],
   "source": [
    "def findLargestThree(arr):\n",
    "    arr.sort()\n",
    "    return arr[:3]"
   ]
  },
  {
   "cell_type": "code",
   "execution_count": 39,
   "metadata": {},
   "outputs": [
    {
     "name": "stdout",
     "output_type": "stream",
     "text": [
      "[1, 3, 4]\n"
     ]
    }
   ],
   "source": [
    "arr = [10, 4, 3, 5, 1, 17]\n",
    "ob = findLargestThree(arr)\n",
    "print(ob)"
   ]
  },
  {
   "attachments": {},
   "cell_type": "markdown",
   "metadata": {},
   "source": [
    "`Approach - 2 O(n)`\n",
    "`Three Pointers`"
   ]
  },
  {
   "cell_type": "code",
   "execution_count": 40,
   "metadata": {},
   "outputs": [],
   "source": [
    "def findLargestThree_2(arr):\n",
    "    first,second,third = -float(\"inf\"), -float(\"inf\"), -float(\"inf\")\n",
    "\n",
    "    for value in arr:\n",
    "\n",
    "        if value > first:\n",
    "            third = second\n",
    "            second = first\n",
    "            first = value\n",
    "\n",
    "        elif value > second:\n",
    "            third = second\n",
    "            second = value\n",
    "            \n",
    "        elif value > third:\n",
    "            third = value\n",
    "    return (first, second, third)"
   ]
  },
  {
   "cell_type": "code",
   "execution_count": 41,
   "metadata": {},
   "outputs": [
    {
     "name": "stdout",
     "output_type": "stream",
     "text": [
      "(17, 10, 5)\n"
     ]
    }
   ],
   "source": [
    "arr = [10, 4, 3, 5, 1, 17]\n",
    "print(findLargestThree_2(arr))"
   ]
  }
 ],
 "metadata": {
  "kernelspec": {
   "display_name": "Python 3",
   "language": "python",
   "name": "python3"
  },
  "language_info": {
   "codemirror_mode": {
    "name": "ipython",
    "version": 3
   },
   "file_extension": ".py",
   "mimetype": "text/x-python",
   "name": "python",
   "nbconvert_exporter": "python",
   "pygments_lexer": "ipython3",
   "version": "3.9.7"
  },
  "orig_nbformat": 4,
  "vscode": {
   "interpreter": {
    "hash": "c347c8f9a7ef94e4c9e03b4513be7835ed18f45b99a2a817fb579f408b867b16"
   }
  }
 },
 "nbformat": 4,
 "nbformat_minor": 2
}
