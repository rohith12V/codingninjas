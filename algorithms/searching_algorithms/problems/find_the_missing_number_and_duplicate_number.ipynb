{
 "cells": [
  {
   "attachments": {},
   "cell_type": "markdown",
   "metadata": {},
   "source": [
    "`Approach - 1` `we use Map`"
   ]
  },
  {
   "cell_type": "code",
   "execution_count": 17,
   "metadata": {},
   "outputs": [
    {
     "name": "stdout",
     "output_type": "stream",
     "text": [
      "Missing number 1\n",
      "Duplicate Number 5\n"
     ]
    }
   ],
   "source": [
    "from collections import defaultdict\n",
    "\n",
    "arr = [7, 3, 4, 5, 5, 6, 2]\n",
    "ds = defaultdict(int)\n",
    "\n",
    "for val in arr:\n",
    "    ds[val] += 1\n",
    "    \n",
    "for index in range(1, len(arr)):\n",
    "    if index not in ds:\n",
    "        print(f'Missing number {index}')\n",
    "    else:\n",
    "        val = ds[index]\n",
    "        if val > 1:\n",
    "            print(f'Duplicate Number {index}')"
   ]
  },
  {
   "attachments": {},
   "cell_type": "markdown",
   "metadata": {},
   "source": [
    "`Approach - 1` `we use XOR`"
   ]
  },
  {
   "cell_type": "code",
   "execution_count": 29,
   "metadata": {},
   "outputs": [],
   "source": [
    "\n",
    "# Python Code for Position\n",
    "# of rightmost set bit\n",
    " \n",
    "import math\n",
    " \n",
    " \n",
    "def getFirstSetBitPos(n):\n",
    "    return (int)(math.log2(n & -n))"
   ]
  },
  {
   "cell_type": "code",
   "execution_count": 30,
   "metadata": {},
   "outputs": [
    {
     "name": "stdout",
     "output_type": "stream",
     "text": [
      "2\n"
     ]
    }
   ],
   "source": [
    "arr = [4, 3, 6, 2, 1, 1]\n",
    "\n",
    "combined_result = arr[0]\n",
    "\n",
    "for value in arr[1:]:\n",
    "    combined_result ^= value\n",
    "\n",
    "for index in range(1, len(arr) + 1):\n",
    "    combined_result ^= index\n",
    "\n",
    "first_set_bit = getFirstSetBitPos(combined_result)\n",
    "\n",
    "x = 0\n",
    "y = 0\n",
    "\n",
    "\n",
    "for value in arr:\n",
    "    if value >> 2\n",
    "\n"
   ]
  },
  {
   "cell_type": "code",
   "execution_count": 38,
   "metadata": {},
   "outputs": [
    {
     "data": {
      "text/plain": [
       "'0b1'"
      ]
     },
     "execution_count": 38,
     "metadata": {},
     "output_type": "execute_result"
    }
   ],
   "source": [
    "bin(10 >> 3)"
   ]
  }
 ],
 "metadata": {
  "kernelspec": {
   "display_name": "Python 3",
   "language": "python",
   "name": "python3"
  },
  "language_info": {
   "codemirror_mode": {
    "name": "ipython",
    "version": 3
   },
   "file_extension": ".py",
   "mimetype": "text/x-python",
   "name": "python",
   "nbconvert_exporter": "python",
   "pygments_lexer": "ipython3",
   "version": "3.9.7"
  },
  "orig_nbformat": 4,
  "vscode": {
   "interpreter": {
    "hash": "c347c8f9a7ef94e4c9e03b4513be7835ed18f45b99a2a817fb579f408b867b16"
   }
  }
 },
 "nbformat": 4,
 "nbformat_minor": 2
}
