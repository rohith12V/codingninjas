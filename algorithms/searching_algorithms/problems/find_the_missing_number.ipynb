{
 "cells": [
  {
   "attachments": {},
   "cell_type": "markdown",
   "metadata": {},
   "source": [
    "`Approach - 1 (O(n))` - `Using Summation`"
   ]
  },
  {
   "attachments": {},
   "cell_type": "markdown",
   "metadata": {},
   "source": [
    "input array = [1, 3, 5, 2, 7, 6]\n",
    "\n",
    "`As we have 1 more elemnet extra in place of missing number we inc N and apply XOR`\n",
    "\n",
    "`input -> [1, 3, 5, 2, 7, 6]\n",
    "N -> [1, 2, 3, 4, 5, 6, 7]`\n",
    "\n",
    "Re-arrangement \n",
    "\n",
    "`input -> [1, 2, 3, _ , 5, 6, 7]\n",
    "N ->     [1, 2, 3,  4, 5, 6, 7]`\n",
    "\n",
    "`Sum(N) - Sum(input) = result`"
   ]
  },
  {
   "attachments": {},
   "cell_type": "markdown",
   "metadata": {},
   "source": [
    "`Approach - 2 (O(n))` - `Using XOR`"
   ]
  },
  {
   "attachments": {},
   "cell_type": "markdown",
   "metadata": {},
   "source": [
    "input array = [1, 3, 5, 2, 7, 6]\n",
    "\n",
    "`As we have 1 more elemnet extra in place of missing number we inc N and apply XOR`\n",
    "\n",
    "`input -> [1, 3, 5, 2, 7, 6]\n",
    "N -> [1, 2, 3, 4, 5, 6, 7]`\n",
    "\n",
    "Re-arrangement \n",
    "\n",
    "`input -> [1, 2, 3, _ , 5, 6, 7]\n",
    "N ->     [1, 2, 3,  4, 5, 6, 7]`\n",
    "\n",
    "XOR of same value will cancel each other. perform XOR of input and N."
   ]
  },
  {
   "cell_type": "code",
   "execution_count": null,
   "metadata": {},
   "outputs": [],
   "source": [
    "from typing import List\n",
    "\n",
    "\n",
    "class Solution:\n",
    "    def missingNumber(self, nums: List[int]) -> int:\n",
    "        # XOR of input Array\n",
    "        result = nums[0]\n",
    "        for index in range(1, len(nums)):\n",
    "            result = result ^ nums[index]\n",
    "\n",
    "        # XOR of expected Array\n",
    "        for index in range(0, len(nums) + 1):\n",
    "            result = result ^ index\n",
    "        \n",
    "        # remaining elemnet is the result\n",
    "        return result\n",
    "        "
   ]
  }
 ],
 "metadata": {
  "kernelspec": {
   "display_name": "Python 3",
   "language": "python",
   "name": "python3"
  },
  "language_info": {
   "codemirror_mode": {
    "name": "ipython",
    "version": 3
   },
   "file_extension": ".py",
   "mimetype": "text/x-python",
   "name": "python",
   "nbconvert_exporter": "python",
   "pygments_lexer": "ipython3",
   "version": "3.9.7"
  },
  "orig_nbformat": 4,
  "vscode": {
   "interpreter": {
    "hash": "c347c8f9a7ef94e4c9e03b4513be7835ed18f45b99a2a817fb579f408b867b16"
   }
  }
 },
 "nbformat": 4,
 "nbformat_minor": 2
}
