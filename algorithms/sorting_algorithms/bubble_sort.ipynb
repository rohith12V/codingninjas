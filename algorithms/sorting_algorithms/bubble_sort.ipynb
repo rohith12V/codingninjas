{
 "cells": [
  {
   "attachments": {},
   "cell_type": "markdown",
   "metadata": {},
   "source": [
    "Each pass moves the next largest element into its final position (these will be shown in green)."
   ]
  },
  {
   "attachments": {},
   "cell_type": "markdown",
   "metadata": {},
   "source": [
    "<img src=\"https://codepumpkin.com/wp-content/uploads/2017/10/BubbleSort_Avg_case.gif\">"
   ]
  },
  {
   "cell_type": "code",
   "execution_count": 6,
   "metadata": {},
   "outputs": [
    {
     "name": "stdout",
     "output_type": "stream",
     "text": [
      "\n",
      "Best Case - [1, 2, 3, 4, 5, 6]\n",
      "For Best case swaps were - 0\n",
      "\n",
      "Average Case - [5, 3, 2, 7, 1, 9, 3, 6]\n",
      "For Average case swaps were - 12\n",
      "\n",
      "Best Case - [6, 5, 4, 3, 2, 1]\n",
      "For Worst case swaps were - 15\n"
     ]
    }
   ],
   "source": [
    "# Pseduo Code\n",
    "\n",
    "def bubbleSort(arr):\n",
    "    swaps_required = 0  # can be removed\n",
    "\n",
    "    # For Every Iteration we Try to push the largest element to the last\n",
    "\n",
    "    for indexX in range(0, len(arr)):\n",
    "\n",
    "        for indexY in range(indexX + 1, len(arr)):\n",
    "\n",
    "            # if earlier element is greater than forward element\n",
    "            if (arr[indexX] > arr[indexY]):\n",
    "\n",
    "                swaps_required +=1 # can be removed\n",
    "\n",
    "                arr[indexY], arr[indexX] = arr[indexX], arr[indexY] # swap\n",
    "\n",
    "    return swaps_required\n",
    "\n",
    "average_case = [5,3,2,7,1,9,3,6]\n",
    "best_case = [1,2,3,4,5,6]\n",
    "worst_case = [6,5,4,3,2,1]\n",
    "\n",
    "print(\"\\nBest Case -\", best_case)\n",
    "print(\"For Best case swaps were -\", bubbleSort(best_case))\n",
    "\n",
    "print(\"\\nAverage Case -\", average_case)\n",
    "print(\"For Average case swaps were -\", bubbleSort(average_case))\n",
    "\n",
    "print(\"\\Worst Case -\", worst_case)\n",
    "print(\"For Worst case swaps were -\", bubbleSort(worst_case))\n"
   ]
  },
  {
   "attachments": {},
   "cell_type": "markdown",
   "metadata": {},
   "source": [
    "## Advantages\n",
    "1. Memory efficient as no memenory is taken\n",
    "2. It gives stable sort"
   ]
  },
  {
   "attachments": {},
   "cell_type": "markdown",
   "metadata": {},
   "source": [
    "## Disadvantages \n",
    "1. O(n2) worst time complexity"
   ]
  }
 ],
 "metadata": {
  "kernelspec": {
   "display_name": "Python 3",
   "language": "python",
   "name": "python3"
  },
  "language_info": {
   "codemirror_mode": {
    "name": "ipython",
    "version": 3
   },
   "file_extension": ".py",
   "mimetype": "text/x-python",
   "name": "python",
   "nbconvert_exporter": "python",
   "pygments_lexer": "ipython3",
   "version": "3.9.7 (tags/v3.9.7:1016ef3, Aug 30 2021, 20:19:38) [MSC v.1929 64 bit (AMD64)]"
  },
  "orig_nbformat": 4,
  "vscode": {
   "interpreter": {
    "hash": "c347c8f9a7ef94e4c9e03b4513be7835ed18f45b99a2a817fb579f408b867b16"
   }
  }
 },
 "nbformat": 4,
 "nbformat_minor": 2
}
