{
 "cells": [
  {
   "attachments": {},
   "cell_type": "markdown",
   "metadata": {},
   "source": [
    "# Time complexity for **selection sort is O(n2)** and **space complexity is O(1)** .\n",
    "# but both of them are exponential in tc so not receommnended for real life applications"
   ]
  },
  {
   "attachments": {},
   "cell_type": "markdown",
   "metadata": {},
   "source": [
    "# Advantage over bubble sort is that we do less number of swaps which are generally memory intensive operations.\n",
    "# In Selection sort, **a maximum of n swap operations are required**, \n",
    "# whereas in Bubble Sort, up to n swap operation happens for each element, so **up to n2 total swap operation are required**"
   ]
  },
  {
   "attachments": {},
   "cell_type": "markdown",
   "metadata": {},
   "source": [
    "# Average Case\n",
    "\n",
    "<img src =\"https://codepumpkin.com/wp-content/uploads/2017/10/SelectionSort_Avg_case.gif\"/>"
   ]
  },
  {
   "attachments": {},
   "cell_type": "markdown",
   "metadata": {},
   "source": [
    "## Worst Case (Reverse List)\n",
    "\n",
    "<img src=\"https://codepumpkin.com/wp-content/uploads/2017/10/SelectionSort_worst_case.gif\" />"
   ]
  },
  {
   "attachments": {},
   "cell_type": "markdown",
   "metadata": {},
   "source": [
    "## Approach\n",
    "\n",
    "1. First, it finds the smallest element in the array.\n",
    "2. Exchange that smallest element with the element at the first position.... similarly for second to last positions ...."
   ]
  },
  {
   "cell_type": "code",
   "execution_count": 7,
   "metadata": {},
   "outputs": [
    {
     "name": "stdout",
     "output_type": "stream",
     "text": [
      "\n",
      "Best Case - [1, 2, 3, 4, 5, 6]\n",
      "For Best case swaps were - 6\n",
      "\n",
      "Average Case - [5, 3, 2, 7, 1, 9, 3, 6]\n",
      "For Average case swaps were - 8\n",
      "\n",
      "Best Case - [6, 5, 4, 3, 2, 1]\n",
      "For Worst case swaps were - 6\n"
     ]
    }
   ],
   "source": [
    "# Pseudo Code\n",
    "\n",
    "def selection_sort(arr):\n",
    "    # points to the index to be swapped with lowest element\n",
    "    swap_index = 0\n",
    "\n",
    "    number_of_swaps = 0 # can be removed\n",
    "\n",
    "    for index in range(0, len(arr)):\n",
    "        # assume current index has the lowest value\n",
    "        min_so_far_index = index\n",
    "\n",
    "        # Check for the lowest value in the rest of the index\n",
    "        for jindex in range(index + 1, len(arr)):\n",
    "\n",
    "            if arr[jindex] < arr[min_so_far_index]:\n",
    "\n",
    "                min_so_far_index = jindex\n",
    "\n",
    "        # swap first index with the lowest in the array.\n",
    "        # first index is represented by swap index\n",
    "        arr[swap_index], arr[min_so_far_index] = arr[min_so_far_index], arr[index]\n",
    "\n",
    "        number_of_swaps+=1 # can be removed\n",
    "\n",
    "        # we move forward as we swap\n",
    "        swap_index+=1\n",
    "\n",
    "    return number_of_swaps\n",
    "                \n",
    "                \n",
    "average_case = [5,3,2,7,1,9,3,6]\n",
    "best_case = [1,2,3,4,5,6]\n",
    "worst_case = [6,5,4,3,2,1]\n",
    "\n",
    "print(\"\\nBest Case -\", best_case)\n",
    "print(\"For Best case swaps were -\", selection_sort(best_case))\n",
    "\n",
    "print(\"\\nAverage Case -\", average_case)\n",
    "print(\"For Average case swaps were -\", selection_sort(average_case))\n",
    "\n",
    "print(\"\\nBest Case -\", worst_case)\n",
    "print(\"For Worst case swaps were -\", selection_sort(worst_case))"
   ]
  }
 ],
 "metadata": {
  "kernelspec": {
   "display_name": "Python 3",
   "language": "python",
   "name": "python3"
  },
  "language_info": {
   "codemirror_mode": {
    "name": "ipython",
    "version": 3
   },
   "file_extension": ".py",
   "mimetype": "text/x-python",
   "name": "python",
   "nbconvert_exporter": "python",
   "pygments_lexer": "ipython3",
   "version": "3.9.7"
  },
  "orig_nbformat": 4,
  "vscode": {
   "interpreter": {
    "hash": "c347c8f9a7ef94e4c9e03b4513be7835ed18f45b99a2a817fb579f408b867b16"
   }
  }
 },
 "nbformat": 4,
 "nbformat_minor": 2
}
