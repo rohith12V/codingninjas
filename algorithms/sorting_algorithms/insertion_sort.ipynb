{
 "cells": [
  {
   "cell_type": "markdown",
   "metadata": {},
   "source": [
    "<img src=\"https://miro.medium.com/max/1012/1*JP-wURjwf4k23U2G3GNQDw.gif\" />"
   ]
  },
  {
   "attachments": {},
   "cell_type": "markdown",
   "metadata": {},
   "source": [
    "# we try to make 2 divisions sorted and unsorted\n",
    "# for every element we make sure that its in the right position in the left sub part\n",
    "# we keep left sub part sorted as we traverse through the array."
   ]
  },
  {
   "attachments": {},
   "cell_type": "markdown",
   "metadata": {},
   "source": [
    "# useful when the array is almost sorted.\n",
    "# tc - o(n**2)\n",
    "# sc - o(1)"
   ]
  },
  {
   "cell_type": "code",
   "execution_count": 8,
   "metadata": {},
   "outputs": [
    {
     "name": "stdout",
     "output_type": "stream",
     "text": [
      "[1, 2, 3, 4]\n",
      "[0, 1, 2, 3, 4, 5, 7, 8]\n",
      "[1, 2, 3, 4, 5, 6, 7, 8, 9]\n"
     ]
    }
   ],
   "source": [
    "# pseudo Code\n",
    "def insertion_sort(arr):\n",
    "\n",
    "    for index in range(1, len(arr)):\n",
    "\n",
    "        sIndex = index - 1\n",
    "        \n",
    "        t = index\n",
    "\n",
    "        # insert current element in to the right position\n",
    "        while(arr[sIndex] > arr[t] and sIndex >=0) :\n",
    "            arr[sIndex], arr[t] = arr[t], arr[sIndex]\n",
    "            sIndex-=1 \n",
    "            t-=1\n",
    "\n",
    "insertion_sort([3,4,2,1])\n",
    "insertion_sort([4,5,2,3,1,7,8,0])\n",
    "insertion_sort([1,6,5,4,7,8,9,3,2])\n",
    "\n"
   ]
  }
 ],
 "metadata": {
  "kernelspec": {
   "display_name": "Python 3",
   "language": "python",
   "name": "python3"
  },
  "language_info": {
   "codemirror_mode": {
    "name": "ipython",
    "version": 3
   },
   "file_extension": ".py",
   "mimetype": "text/x-python",
   "name": "python",
   "nbconvert_exporter": "python",
   "pygments_lexer": "ipython3",
   "version": "3.9.7"
  },
  "orig_nbformat": 4,
  "vscode": {
   "interpreter": {
    "hash": "c347c8f9a7ef94e4c9e03b4513be7835ed18f45b99a2a817fb579f408b867b16"
   }
  }
 },
 "nbformat": 4,
 "nbformat_minor": 2
}
