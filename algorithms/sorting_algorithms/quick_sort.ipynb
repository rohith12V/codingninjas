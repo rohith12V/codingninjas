{
 "cells": [
  {
   "cell_type": "markdown",
   "metadata": {},
   "source": [
    "<img src=\"https://miro.medium.com/max/932/1*3lEL82yCH_-iaq46dji91w.gif\" />"
   ]
  },
  {
   "attachments": {},
   "cell_type": "markdown",
   "metadata": {},
   "source": [
    "<img src=\"https://www.geeksforgeeks.org/wp-content/uploads/gq/2014/01/QuickSort2.png\" />"
   ]
  },
  {
   "attachments": {},
   "cell_type": "markdown",
   "metadata": {},
   "source": [
    "1. Divide and Conquer algorithm\n",
    "2. works on pivot basis\n",
    "3. we pick a Pivot and make sure that left part is less than pivot and right part is greater than piviot.\n",
    "4. we recursively do for all the sub partitions."
   ]
  },
  {
   "cell_type": "code",
   "execution_count": null,
   "metadata": {},
   "outputs": [],
   "source": [
    "# Python3 implementation of QuickSort\n",
    "\n",
    "\n",
    "# Function to find the partition position\n",
    "def partition(array, low, high):\n",
    "\n",
    "\t# Choose the rightmost element as pivot\n",
    "\tpivot = array[high]\n",
    "\n",
    "\t# Pointer for greater element\n",
    "\ti = low - 1\n",
    "\n",
    "\t# Traverse through all elements\n",
    "\t# compare each element with pivot\n",
    "\tfor j in range(low, high):\n",
    "\t\tif array[j] <= pivot:\n",
    "\t\t\t# If element smaller than pivot is found\n",
    "\t\t\t# swap it with the greater element pointed by i\n",
    "\t\t\ti = i + 1\n",
    "\n",
    "\t\t\t# Swapping element at i with element at j\n",
    "\t\t\t(array[i], array[j]) = (array[j], array[i])\n",
    "\n",
    "\t# Swap the pivot element with\n",
    "\t# e greater element specified by i\n",
    "\t(array[i + 1], array[high]) = (array[high], array[i + 1])\n",
    "\n",
    "\t# Return the position from where partition is done\n",
    "\treturn i + 1\n",
    "\n",
    "# Function to perform quicksort\n",
    "\n",
    "\n",
    "def quick_sort(array, low, high):\n",
    "\tif low < high:\n",
    "\n",
    "\t\t# Find pivot element such that\n",
    "\t\t# element smaller than pivot are on the left\n",
    "\t\t# element greater than pivot are on the right\n",
    "\t\tpi = partition(array, low, high)\n",
    "\n",
    "\t\t# Recursive call on the left of pivot\n",
    "\t\tquick_sort(array, low, pi - 1)\n",
    "\n",
    "\t\t# Recursive call on the right of pivot\n",
    "\t\tquick_sort(array, pi + 1, high)\n",
    "\n",
    "\n",
    "# Driver code\n",
    "array = [10, 7, 8, 9, 1, 5]\n",
    "quick_sort(array, 0, len(array) - 1)\n",
    "\n",
    "print(f'Sorted array: {array}')\n"
   ]
  }
 ],
 "metadata": {
  "kernelspec": {
   "display_name": "Python 3",
   "language": "python",
   "name": "python3"
  },
  "language_info": {
   "name": "python",
   "version": "3.9.7 (tags/v3.9.7:1016ef3, Aug 30 2021, 20:19:38) [MSC v.1929 64 bit (AMD64)]"
  },
  "orig_nbformat": 4,
  "vscode": {
   "interpreter": {
    "hash": "c347c8f9a7ef94e4c9e03b4513be7835ed18f45b99a2a817fb579f408b867b16"
   }
  }
 },
 "nbformat": 4,
 "nbformat_minor": 2
}
